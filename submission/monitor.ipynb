{
 "cells": [
  {
   "cell_type": "markdown",
   "id": "d2220210",
   "metadata": {},
   "source": [
    "# Radar Data Streaming and Pre-Processing"
   ]
  },
  {
   "cell_type": "markdown",
   "id": "c04ff8d0",
   "metadata": {},
   "source": [
    "### This notebook demonstrates how to read the data from the radar using python wrapper for Infineon Radar SDK"
   ]
  },
  {
   "cell_type": "markdown",
   "id": "e75d2a7f",
   "metadata": {},
   "source": [
    "#### Importing required libraries \n",
    "\n",
    "    - ifxdaq --> is the python wrapper for Radar SDK\n",
    "    - processing --> is python module for basic processing to get the range-Dopplers from the signal\n",
    "    - fft --> contains the range_fft and doppler_fft methods\n",
    "    "
   ]
  },
  {
   "cell_type": "code",
   "execution_count": null,
   "id": "9955721e",
   "metadata": {},
   "outputs": [],
   "source": [
    "import ifxdaq\n",
    "import processing\n",
    "import numpy as np\n",
    "#print(ifxdaq.__version__)\n",
    "from ifxdaq.sensor.radar_ifx import RadarIfxAvian\n",
    "import matplotlib.pyplot as plot\n",
    "from sklearn.preprocessing import MinMaxScaler"
   ]
  },
  {
   "cell_type": "markdown",
   "id": "7cfec634",
   "metadata": {},
   "source": [
    "#### In the folder 'radar_configs' you find radar configuration parameters. It contains radar parameters :\n",
    "\n",
    "    - transmit power level\n",
    "    - start/end frequency\n",
    "    - sampling rate\n",
    "    - # of chirps per frame\n",
    "    - # of samples per chirp\n",
    "    - # of transmit/receive antennas\n",
    "    - MIMO mode selection"
   ]
  },
  {
   "cell_type": "code",
   "execution_count": null,
   "id": "82d725b7",
   "metadata": {},
   "outputs": [],
   "source": [
    "\"\"\"\n",
    "@params: sensor's raw data from 3 antenas\n",
    "@return: Min-Max \n",
    "\"\"\"\n",
    "def input_preprocessing(test_data):\n",
    "    data = np.empty((3,64,128))\n",
    "    scaler = MinMaxScaler()\n",
    "    for i in range(3):\n",
    "        data[i] = scaler.fit_transform(test_data[i])\n",
    "    return data"
   ]
  },
  {
   "cell_type": "code",
   "execution_count": null,
   "id": "264b965d",
   "metadata": {},
   "outputs": [],
   "source": [
    "config_file = \"radar_configs/RadarIfxBGT60.json\"\n",
    "number_of_frames = 1000"
   ]
  },
  {
   "cell_type": "code",
   "execution_count": null,
   "id": "385e28f4",
   "metadata": {},
   "outputs": [],
   "source": [
    "## Run this to understand the current radar settings better\n",
    "import json\n",
    "with open(config_file) as json_file:\n",
    "    c = json.load(json_file)[\"device_config\"][\"fmcw_single_shape\"]\n",
    "    chirp_duration = c[\"num_samples_per_chirp\"]/c['sample_rate_Hz']\n",
    "    frame_duration = (chirp_duration + c['chirp_repetition_time_s']) * c['num_chirps_per_frame']\n",
    "    print(\"With the current configuration, the radar will send out \" + str(c['num_chirps_per_frame']) + \\\n",
    "          ' signals with varying frequency (\"chirps\") between ' + str(c['start_frequency_Hz']/1e9) + \" GHz and \" + \\\n",
    "          str(c['end_frequency_Hz']/1e9) + \" GHz.\")\n",
    "    print('Each chirp will consist of ' + str(c[\"num_samples_per_chirp\"]) + ' ADC measurements of the IF signal (\"samples\").')\n",
    "    print('A chirp takes ' + str(chirp_duration*1e6) + ' microseconds and the delay between the chirps is ' + str(c['chirp_repetition_time_s']*1e6) +' microseconds.')\n",
    "    print('With a total frame duration of ' + str(frame_duration*1e3) + ' milliseconds and a delay of ' + str(c['frame_repetition_time_s']*1e3) + ' milliseconds between the frame we get a frame rate of ' + str(1/(frame_duration + c['frame_repetition_time_s'])) + ' radar frames per second.')"
   ]
  },
  {
   "cell_type": "markdown",
   "id": "9e8d5e71",
   "metadata": {},
   "source": [
    "#### the next code block initiliaze the radar with set configuration and loop through the continuous frames; when it  reaches desired number of frames, we process it to get the range-doppler information out of it."
   ]
  },
  {
   "cell_type": "code",
   "execution_count": null,
   "id": "04e09b48",
   "metadata": {},
   "outputs": [],
   "source": [
    "\"\"\"\n",
    "Loading model.\n",
    "\"\"\"\n",
    "import tensorflow as tf\n",
    "model = tf.keras.models.load_model('../my_model_today_data.h5')"
   ]
  },
  {
   "cell_type": "code",
   "execution_count": null,
   "id": "7ce74382",
   "metadata": {
    "scrolled": true
   },
   "outputs": [],
   "source": [
    "\n",
    "raw_data = []\n",
    "results = []\n",
    "\n",
    "\"\"\"\n",
    "We running the monitor procedure in a VM so we have latency in the predictions\n",
    "\"\"\"\n",
    "with RadarIfxAvian(config_file) as device:                             # Initialize the radar with configurations\n",
    "    \n",
    "    for i_frame, frame in enumerate(device):                           # Loop through the frames coming from the radar\n",
    "        \n",
    "        raw_data.append(np.squeeze(frame['radar'].data/(4095.0)))      # Dividing by 4095.0 to scale the data\n",
    "        \n",
    "        inference_data = input_preprocessing(raw_data[len(raw_data)-1])\n",
    "        inference_data = inference_data.reshape(-1,64,128,3)\n",
    "        prediction = model.predict(inference_data,verbose=0)\n",
    "        results.append(np.argmax(prediction))\n",
    "        print('\\r People prediction: ' + str(np.argmax(prediction)), end='\\r')\n",
    "\n",
    "        if(i_frame == number_of_frames-1):\n",
    "            data = np.asarray(raw_data)\n",
    "            range_doppler_map = processing.processing_rangeDopplerData(data)\n",
    "            # print(loaded_model.predict([range_doppler_map]))\n",
    "            #del data\n",
    "            break      "
   ]
  },
  {
   "cell_type": "code",
   "execution_count": null,
   "id": "dc836c46",
   "metadata": {},
   "outputs": [],
   "source": [
    "\"\"\"\n",
    "Data acquition\n",
    "\"\"\"\n",
    "raw_data    = []\n",
    "\n",
    "with RadarIfxAvian(config_file) as device:                             # Initialize the radar with configurations\n",
    "    \n",
    "    for i_frame, frame in enumerate(device):                           # Loop through the frames coming from the radar\n",
    "        \n",
    "        raw_data.append(np.squeeze(frame['radar'].data/(4095.0)))      # Dividing by 4095.0 to scale the data\n",
    "\n",
    "        if(i_frame == number_of_frames-1):\n",
    "            data = np.asarray(raw_data)\n",
    "            range_doppler_map = processing.processing_rangeDopplerData(data)\n",
    "            # print(loaded_model.predict([range_doppler_map]))\n",
    "            #del data\n",
    "            break     "
   ]
  },
  {
   "cell_type": "markdown",
   "id": "fff18723",
   "metadata": {},
   "source": [
    "#### Note: There is a function to get range_data called \"processing_rangeData\" which will be usefull to detect the movements."
   ]
  },
  {
   "cell_type": "code",
   "execution_count": null,
   "id": "6138e723",
   "metadata": {},
   "outputs": [],
   "source": [
    "# The shape of the radar data depends on the radar settings.\n",
    "# The different dimensions of the shape are (frame_index, receiver_index, chirp_index, sample_index).\n",
    "\n",
    "print(\"(frame_index, receiver_index, chirp_index, sample_index)\")\n",
    "print(data.shape)"
   ]
  },
  {
   "cell_type": "code",
   "execution_count": null,
   "id": "7f8c8fc1",
   "metadata": {},
   "outputs": [],
   "source": [
    "\"\"\"\n",
    "Saving data\n",
    "\"\"\"\n",
    "np.save('dataset1',raw_data)"
   ]
  }
 ],
 "metadata": {
  "interpreter": {
   "hash": "f544ce1a915a9875fad91c894e2c0bcad4b7a79945aa6027ef3ad27810072aa6"
  },
  "kernelspec": {
   "display_name": "Python 3.8.5 64-bit",
   "language": "python",
   "name": "python3"
  },
  "language_info": {
   "codemirror_mode": {
    "name": "ipython",
    "version": 3
   },
   "file_extension": ".py",
   "mimetype": "text/x-python",
   "name": "python",
   "nbconvert_exporter": "python",
   "pygments_lexer": "ipython3",
   "version": "3.8.5"
  }
 },
 "nbformat": 4,
 "nbformat_minor": 5
}
